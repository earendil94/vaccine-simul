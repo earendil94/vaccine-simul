{
 "cells": [
  {
   "cell_type": "code",
   "execution_count": null,
   "metadata": {},
   "outputs": [],
   "source": [
    "from epydemic import CompartmentedModel\n",
    "\n",
    "class SIR(epydemic.ComparmentedModel):\n",
    "    SUSCEPTIBLE = 'S'\n",
    "    INFECTED = 'I'\n",
    "    REMOVED = 'R'\n",
    "    \n",
    "    P_INFECTED = 'pInfected'\n",
    "    P_INFECT = 'pInfect'\n",
    "    P_REMOVE = 'pRemove'\n",
    "    \n",
    "    "
   ]
  }
 ],
 "metadata": {
  "kernelspec": {
   "display_name": "Python 3",
   "language": "python",
   "name": "python3"
  },
  "language_info": {
   "codemirror_mode": {
    "name": "ipython",
    "version": 3
   },
   "file_extension": ".py",
   "mimetype": "text/x-python",
   "name": "python",
   "nbconvert_exporter": "python",
   "pygments_lexer": "ipython3",
   "version": "3.8.5"
  }
 },
 "nbformat": 4,
 "nbformat_minor": 4
}
