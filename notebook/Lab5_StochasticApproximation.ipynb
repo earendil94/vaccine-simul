{
 "cells": [
  {
   "cell_type": "code",
   "execution_count": 1,
   "metadata": {},
   "outputs": [],
   "source": [
    "import sympy as sp\n",
    "import numpy as np\n",
    "from math import *\n",
    "from time import perf_counter as timer\n",
    "from scipy.integrate import odeint\n",
    "import matplotlib.pyplot as plt\n",
    "import numpy.random as rnd\n",
    "from math import ceil"
   ]
  },
  {
   "cell_type": "code",
   "execution_count": 2,
   "metadata": {},
   "outputs": [],
   "source": [
    "class Transition:\n",
    "\n",
    "    def __init__(self, update, rate, sympy_symbols):\n",
    "        #this will convert rate into a sympy expression.\n",
    "\n",
    "        self.update = None\n",
    "        self.update_dictionary = update\n",
    "        try:\n",
    "            self.rate = sp.sympify(rate, sympy_symbols, evaluate=False)\n",
    "        except sp.SympifyError as e:\n",
    "            print(\"An error happened while parsing expression\", rate,\":\",e)\n",
    "\n",
    "    # finalizes transition by turning the update list into a numpy array\n",
    "    def finalize(self, variables):\n",
    "        self.update = np.zeros(variables.dimension)\n",
    "        for var_name in self.update_dictionary:\n",
    "            index = variables.get_id(var_name)\n",
    "            self.update[index] = self.update_dictionary[var_name]\n",
    "        self.update = np.reshape(self.update, (1,variables.dimension))"
   ]
  },
  {
   "cell_type": "code",
   "execution_count": 3,
   "metadata": {},
   "outputs": [],
   "source": [
    "class Symbols:\n",
    "\n",
    "    def __init__(self):\n",
    "        # initialize\n",
    "        self.reference = []\n",
    "        self.values = []\n",
    "        # initialize map from string to int and back\n",
    "        self.reference2id = {}\n",
    "        self.names2id = {}\n",
    "        self.id2reference = {}\n",
    "        self.dimension = 0\n",
    "\n",
    "    #Adds a new symbol to the symbol array, creating a sympy object\n",
    "    def add(self, name, value):\n",
    "        symbol = sp.symbols(name)\n",
    "        index = len(self.reference)\n",
    "        self.reference.append(symbol)\n",
    "        self.values.append(value)\n",
    "        self.reference2id[symbol] = index\n",
    "        self.names2id[name] = index\n",
    "        self.id2reference[index] = symbol\n",
    "        self.dimension += 1\n",
    "        return symbol\n",
    "\n",
    "    # sets the value of a symbol\n",
    "    def set(self, name, value):\n",
    "        try:\n",
    "            index = self.names2id[name]\n",
    "            self.values[index] = value\n",
    "        except:\n",
    "            print(\"Symbol \" + name + \" is not defined\")\n",
    "\n",
    "    def get_value(self,name):\n",
    "        try:\n",
    "            index = self.names2id[name]\n",
    "            return self.values[index]\n",
    "        except:\n",
    "            print(\"Symbol \" + name + \" is not defined\")\n",
    "\n",
    "    #finalizes the symbol array, generating a numpy array for values\n",
    "    def finalize(self):\n",
    "        self.values = np.array(self.values)\n",
    "\n",
    "    def get_id(self, name):\n",
    "        return self.names2id[name]\n"
   ]
  },
  {
   "cell_type": "code",
   "execution_count": 4,
   "metadata": {},
   "outputs": [],
   "source": [
    "class Model:\n",
    "\n",
    "    def __init__(self):\n",
    "        #init variables and parameters\n",
    "        self.variables = Symbols()\n",
    "        self.parameters = Symbols()\n",
    "        # this contains a map of names to sympy variables, to be used later for parsing expressions\n",
    "        self.names2sym = {}\n",
    "        # init transition list\n",
    "        self.transitions = []\n",
    "        self.transition_number = 0\n",
    "        self.system_size = 0;\n",
    "        self.system_size_reference = None\n",
    "        self.system_size_name = ''\n",
    "        self.variables_names = []\n",
    "\n",
    "    def set_system_size(self, name, value):\n",
    "        self.add_parameter(name, value)\n",
    "        self.system_size_reference = self.names2sym[name]\n",
    "        self.system_size_name = name\n",
    "        self.system_size = value\n",
    "\n",
    "\n",
    "    def add_variable(self, name, value):\n",
    "        if name in self.names2sym:\n",
    "            raise ModelError(\"Name \" + name + \" already defined!\")\n",
    "        var = self.variables.add(name, value)\n",
    "        self.variables_names.append(name)\n",
    "        self.names2sym[name] = var\n",
    "\n",
    "    def add_parameter(self, name, value):\n",
    "        if name in self.names2sym:\n",
    "            raise ModelError(\"Name \" + name + \" already defined!\")\n",
    "        par = self.parameters.add(name, value)\n",
    "        self.names2sym[name] = par\n",
    "\n",
    "    # Changes the initial value of a variable\n",
    "    def set_variable(self, name, value):\n",
    "        self.variables.set(name, value)\n",
    "\n",
    "    # Changes the value of a parameter\n",
    "    def set_parameter(self, name, value):\n",
    "        if self.system_size_name == name:\n",
    "            self.parameters.set(name, value)\n",
    "            self.system_size = value\n",
    "        else:\n",
    "            self.parameters.set(name, value)\n",
    "\n",
    "    def get_parameter_value(self, name):\n",
    "        return self.parameters.get_value(name)\n",
    "\n",
    "    # Adds a transition to the model\n",
    "    def add_transition(self, update, rate):\n",
    "        t = Transition(update, rate, self.names2sym)\n",
    "        self.transitions.append(t)\n",
    "        self.transition_number += 1\n",
    "\n",
    "\n",
    "\n",
    "    # Finalizes the initialization\n",
    "    def finalize_initialization(self):\n",
    "        self.variables.finalize()\n",
    "        self.parameters.finalize()\n",
    "        for t in self.transitions:\n",
    "            t.finalize(self.variables)\n",
    "        \n",
    "        self.__generate_vector_field()\n",
    "        self.__generate_diffusion()\n",
    "        self.__generate_jacobian()\n",
    "        self.__generate_numpy_functions()\n",
    "\n",
    "    #generates the mean field vector field\n",
    "    def __generate_vector_field(self):\n",
    "        self._vector_field_sympy = np.zeros(self.transitions[0].update.shape, dtype=object)\n",
    "        #update is the update vector, hence its shape is the number of variables\n",
    "        \n",
    "        for i in range(len(self.variables_names)):\n",
    "            self._vector_field_sympy[0,i] = 0\n",
    "            for rho in self.transitions:\n",
    "                self._vector_field_sympy[0,i] = self._vector_field_sympy[0,i] + rho.update[0,i]*rho.rate         \n",
    "            \n",
    "        self._vector_field_sympy = sp.simplify(self._vector_field_sympy)\n",
    "        \n",
    "\n",
    "    #generates the diffusion term\n",
    "    def __generate_diffusion(self):\n",
    "        n_vars = self.variables.dimension\n",
    "        self._diffusion_sympy = np.zeros((n_vars, n_vars), dtype = object)\n",
    "        \n",
    "        for i in range(n_vars):\n",
    "            for k in range(n_vars):\n",
    "                for rho in self.transitions:\n",
    "                    self._diffusion_sympy[i,k] = self._diffusion_sympy[i,k] + rho.update[0,i]*rho.update[0,k]*rho.rate\n",
    "        \n",
    "        self._diffusion_sympy = sp.simplify(self._diffusion_sympy)\n",
    "        \n",
    "\n",
    "    # computes symbolically the jacobian of the vector field\n",
    "    def __generate_jacobian(self):\n",
    "        n = self.variables.dimension\n",
    "        f = self._vector_field_sympy\n",
    "        x = self.variables.reference\n",
    "        J = np.zeros((n, n), dtype=object)\n",
    "        \n",
    "        for i in range(n):\n",
    "            for j in range(n):\n",
    "                J[i,j] = sp.diff(f[0,i], x[j])\n",
    "               \n",
    "        self._jacobian_sympy = J\n",
    "\n",
    "\n",
    "    # generate numpy expressions and the mean field VF\n",
    "    def __generate_numpy_functions(self):\n",
    "        sympy_ref = self.variables.reference + self.parameters.reference\n",
    "        self.rates = sp.lambdify(sympy_ref, [t.rate for t in self.transitions], \"numpy\")\n",
    "        self.vector_field = sp.lambdify(sympy_ref, self._vector_field_sympy, \"numpy\")\n",
    "        self.diffusion = sp.lambdify(sympy_ref, self._diffusion_sympy, \"numpy\")\n",
    "        self.jacobian = sp.lambdify(sympy_ref, self._jacobian_sympy, \"numpy\")\n",
    "        \n",
    "\n",
    "    #evaluates and returns vector field, diffusion, ...\n",
    "    def evaluate_all_vector_fields(self, var_values):\n",
    "        f = self.vector_field(*var_values, *self.parameters.values)\n",
    "        D = self.diffusion(*var_values, *self.parameters.values)\n",
    "        J = self.jacobian(*var_values, *self.parameters.values)\n",
    "        return np.asarray(f), np.asarray(D), np.asarray(J)\n",
    "\n",
    "    def evaluate_MF_vector_field(self, var_values):\n",
    "        f = self.vector_field(*var_values, *self.parameters.values)\n",
    "        return np.asarray(f)\n",
    "\n",
    "\n",
    "    def evaluate_rates(self, var_values):\n",
    "        r = self.rates(*var_values, *self.parameters.values)\n",
    "        return np.asarray(r)\n"
   ]
  },
  {
   "cell_type": "markdown",
   "metadata": {},
   "source": [
    "- Class containing the methods to plot trajectories and compare the results of different methods. "
   ]
  },
  {
   "cell_type": "code",
   "execution_count": 5,
   "metadata": {},
   "outputs": [],
   "source": [
    "class Trajectory:\n",
    "    def __init__(self, t, x, desc, labels):\n",
    "        self.time = t\n",
    "        self.data = x\n",
    "        self.labels = labels\n",
    "        self.description = desc\n",
    "\n",
    "    def plot(self, var_to_plot=None):\n",
    "        if var_to_plot is None:\n",
    "            var_to_plot = self.labels\n",
    "        fig = plt.figure()\n",
    "        ax = fig.add_subplot(111)\n",
    "        ax.set_prop_cycle(plt.cycler('color', ['r', 'g', 'b', 'c', 'm', 'y', 'k']))\n",
    "        handles = []\n",
    "        labels = []\n",
    "        for v in var_to_plot:\n",
    "            try:\n",
    "                i = self.labels.index(v)\n",
    "                h, = ax.plot(self.time, self.data[:, i])\n",
    "                handles.append(h)\n",
    "                labels.append(v)\n",
    "            except:\n",
    "                print(\"Variable\", v, \"not found\")\n",
    "        fig.legend(handles, labels)\n",
    "        plt.title(self.description)\n",
    "        plt.xlabel('Time')\n",
    "        plt.show()\n",
    "\n",
    "    def plot_comparing_to(self, trajectory, var_to_plot=None):\n",
    "        if var_to_plot is None:\n",
    "            var_to_plot = self.labels\n",
    "        fig = plt.figure()\n",
    "        ax = fig.add_subplot(111)\n",
    "        ax.set_prop_cycle(plt.cycler('color', ['r', 'r', 'g', 'g', 'b', 'b', 'c', 'c', 'm', 'm', 'y', 'y', 'k', 'k']))\n",
    "        handles = []\n",
    "        labels = []\n",
    "        for v in var_to_plot:\n",
    "            try:\n",
    "                i = self.labels.index(v)\n",
    "                h, = ax.plot(self.time, self.data[:, i])\n",
    "                handles.append(h)\n",
    "                labels.append(self.description + \" \" + v)\n",
    "                h, = ax.plot(trajectory.time, trajectory.data[:, i], '--')\n",
    "                handles.append(h)\n",
    "                labels.append(trajectory.description + \" \" + v)\n",
    "            except Exception as e:\n",
    "                print(\"Probably variable\", v, \"not found\")\n",
    "                print(\"Exception is\", e)\n",
    "        fig.legend(handles, labels)\n",
    "        plt.title(self.description + \" vs \" + trajectory.description)\n",
    "        plt.xlabel('Time')\n",
    "        plt.show()"
   ]
  },
  {
   "cell_type": "markdown",
   "metadata": {},
   "source": [
    "- Class containing all the methods for generating PCTMC trajectories: from SSA simulation to stochastic approximation (e.g. Mean Field and Linear Noise)"
   ]
  },
  {
   "cell_type": "code",
   "execution_count": 6,
   "metadata": {},
   "outputs": [],
   "source": [
    "class Simulator:\n",
    "    def __init__(self, model):\n",
    "        self.model = model\n",
    "        self.t0 = 0\n",
    "        self.x0 = model.variables.values\n",
    "\n",
    "    def _unpack(self, z):\n",
    "        n = self.model.variables.dimension\n",
    "        phi = z[0:n]  # mean field\n",
    "        c = np.reshape(z[n:], (n, n))  # c term\n",
    "        return phi, c\n",
    "\n",
    "    def _pack(self, f, dc):\n",
    "        z = np.concatenate((f.flatten(), dc.flatten()))\n",
    "        return z\n",
    "\n",
    "    # computes the full vector field for the linear noise ODE\n",
    "    def _linear_noise_ODE(self, z, t):\n",
    "        x_t, c_t = self._unpack(z)\n",
    "        \n",
    "        f, D, J = self.model.evaluate_all_vector_fields(x_t)\n",
    "        dx_dt = np.dot(J,x_t)\n",
    "        dc_dt = np.dot(J,c_t) + np.dot(c_t, J) + D\n",
    "        \n",
    "        dz = self._pack(dx_dt, dc_dt)\n",
    "        return dz\n",
    "\n",
    "    # computes the vector field for the classic mean field\n",
    "    def _mean_field_ODE(self, x, t):\n",
    "        \n",
    "        dx_dt = self.model.evaluate_MF_vector_field(x)[0]\n",
    "        return dx_dt\n",
    "\n",
    "\n",
    "    def _generate_time_stamp(self, final_time, points):\n",
    "        \"\"\"\n",
    "        Generates a time stamp from time self.t0 to final_time,\n",
    "        with points+1 number of points.\n",
    "\n",
    "        :param final_time: final time of the simulation\n",
    "        :param points: number of points\n",
    "        :return: a time stamp numpy array\n",
    "        \"\"\"\n",
    "        step = (final_time - self.t0) / points\n",
    "        time = np.arange(self.t0, final_time + step, step)\n",
    "        return time\n",
    "\n",
    "    def MF_simulation(self, final_time, points=1000):\n",
    "        \"\"\"\n",
    "        Numerically integrates standard mean field equations\n",
    "\n",
    "        :param final_time: final simulation time\n",
    "        :param points: number of points to be saved\n",
    "        :return:  a trajectory object for model observables\n",
    "        \"\"\"\n",
    "        t = self._generate_time_stamp(final_time, points)\n",
    "        x = odeint(self._mean_field_ODE, self.x0, t)\n",
    "        t = np.reshape(t, (len(t), 1))\n",
    "        trajectory = Trajectory(t, x, \"Mean Field\", self.model.variables_names)\n",
    "        return trajectory\n",
    "\n",
    "    def LN_simulation(self, final_time, points=1000):\n",
    "        \"\"\"\n",
    "        Numerically integrates the linear noise equations\n",
    "\n",
    "        :param final_time: final simulation time\n",
    "        :param points: number of points to be saved\n",
    "        :return:  a trajectory object for corrected model observables\n",
    "        \"\"\"\n",
    "        n = self.model.variables.dimension\n",
    "        t = self._generate_time_stamp(final_time, points)\n",
    "        c0 = np.zeros((n,n))\n",
    "        z0 = self._pack(self.x0, c0)\n",
    "        z = odeint(self._linear_noise_ODE, z0, t)\n",
    "\n",
    "        x = z[:,0:n]\n",
    "        c = np.reshape(z[:,n:], (points+1,n,n))\n",
    "        \n",
    "        trajectory = Trajectory(t, x, \"Linear noise\", self.model.variables_names)\n",
    "        \n",
    "        return trajectory, t, x, c"
   ]
  },
  {
   "cell_type": "markdown",
   "metadata": {},
   "source": [
    "- Define a basic PCTMC model of your choice using the class *Model()*."
   ]
  },
  {
   "cell_type": "code",
   "execution_count": 8,
   "metadata": {},
   "outputs": [],
   "source": [
    "sir = Model()\n",
    "# variables are generated in the following order\n",
    "#Current data retrievable from https://lab24.ilsole24ore.com/coronavirus/#\n",
    "N = 6e+07 #Italian population\n",
    "Current_infected = 491630\n",
    "Current_recovered =  1897861\n",
    "sir.add_variable(\"S\", N-Current_infected-Current_recovered)\n",
    "sir.add_variable(\"I\", Current_infected)\n",
    "sir.add_variable(\"R\", Current_recovered)\n",
    "# Adding parameters\n",
    "sir.add_parameter(\"ki\", 10/14)\n",
    "sir.add_parameter(\"kr\", 1/14) #1/days to change state\n",
    "sir.add_parameter(\"ks\", 1/90)\n",
    "#setting the system size N\n",
    "sir.set_system_size(\"N\", N) \n",
    "# Adding transitions, using a dictionary to represent the update vector\n",
    "sir.add_transition({\"S\":-1, \"I\":1}, \"ki/N*I*S\") # TODO: i am super unsure regarding the rates and the division by n\n",
    "sir.add_transition({\"I\":-1, \"R\":1}, \"kr*I\")\n",
    "sir.add_transition({\"R\":-1, \"S\":1}, \"ks*R\")\n",
    "#finalize initialization\n",
    "sir.finalize_initialization()"
   ]
  },
  {
   "cell_type": "code",
   "execution_count": 9,
   "metadata": {},
   "outputs": [
    {
     "data": {
      "text/latex": [
       "$\\displaystyle \\frac{1.0 I \\left(- N kr + S ki\\right)}{N}$"
      ],
      "text/plain": [
       "1.0*I*(-N*kr + S*ki)/N"
      ]
     },
     "execution_count": 9,
     "metadata": {},
     "output_type": "execute_result"
    }
   ],
   "source": [
    "sir.transitions[0].update\n",
    "len(sir.variables_names)\n",
    "sir._vector_field_sympy[0,1]"
   ]
  },
  {
   "cell_type": "code",
   "execution_count": 10,
   "metadata": {},
   "outputs": [],
   "source": [
    "#initialize simulator\n",
    "sim = Simulator(sir)\n",
    "final_time = 25\n",
    "points = 100"
   ]
  },
  {
   "cell_type": "code",
   "execution_count": 11,
   "metadata": {},
   "outputs": [
    {
     "name": "stdout",
     "output_type": "stream",
     "text": [
      "MF simulation time: 0.006063600001652958 seconds\n"
     ]
    }
   ],
   "source": [
    "#integrate mf ode\n",
    "start = timer()\n",
    "traj_mf = sim.MF_simulation(final_time, points)\n",
    "end = timer()\n",
    "print(\"MF simulation time:\", (end-start), \"seconds\")"
   ]
  },
  {
   "cell_type": "code",
   "execution_count": 12,
   "metadata": {},
   "outputs": [
    {
     "data": {
      "image/png": "[encoded data removed]",
      "text/plain": [
       "<Figure size 432x288 with 1 Axes>"
      ]
     },
     "metadata": {
      "needs_background": "light"
     },
     "output_type": "display_data"
    }
   ],
   "source": [
    "if __name__ == \"__main__\":\n",
    "    traj_mf.plot()"
   ]
  },
  {
   "cell_type": "code",
   "execution_count": 13,
   "metadata": {},
   "outputs": [
    {
     "name": "stdout",
     "output_type": "stream",
     "text": [
      "LN simulation time: 0.08332240000163438 seconds\n"
     ]
    }
   ],
   "source": [
    "#integrate ln ode\n",
    "start = timer()\n",
    "traj_ln, t, mf, cov = sim.LN_simulation(final_time, points)\n",
    "end = timer()\n",
    "print(\"LN simulation time:\", (end-start), \"seconds\")"
   ]
  },
  {
   "cell_type": "code",
   "execution_count": 14,
   "metadata": {},
   "outputs": [
    {
     "data": {
      "image/png": "[encoded data removed]",
      "text/plain": [
       "<Figure size 432x288 with 1 Axes>"
      ]
     },
     "metadata": {
      "needs_background": "light"
     },
     "output_type": "display_data"
    }
   ],
   "source": [
    "traj_ln.plot()"
   ]
  },
  {
   "cell_type": "code",
   "execution_count": null,
   "metadata": {},
   "outputs": [],
   "source": []
  },
  {
   "cell_type": "code",
   "execution_count": null,
   "metadata": {},
   "outputs": [],
   "source": []
  }
 ],
 "metadata": {
  "kernelspec": {
   "display_name": "Python 3",
   "language": "python",
   "name": "python3"
  },
  "language_info": {
   "codemirror_mode": {
    "name": "ipython",
    "version": 3
   },
   "file_extension": ".py",
   "mimetype": "text/x-python",
   "name": "python",
   "nbconvert_exporter": "python",
   "pygments_lexer": "ipython3",
   "version": "3.8.5"
  }
 },
 "nbformat": 4,
 "nbformat_minor": 4
}
