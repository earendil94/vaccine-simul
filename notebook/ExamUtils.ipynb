{
 "cells": [
  {
   "cell_type": "code",
   "execution_count": 1,
   "metadata": {},
   "outputs": [],
   "source": [
    "import pandas as pd\n",
    "import matplotlib.pyplot as plt"
   ]
  },
  {
   "cell_type": "code",
   "execution_count": 43,
   "metadata": {},
   "outputs": [],
   "source": [
    "df_ifr = pd.read_excel('covid_19-iss.xlsx',\n",
    "                          sheet_name='sesso_eta',\n",
    "                          engine = 'openpyxl')"
   ]
  },
  {
   "cell_type": "code",
   "execution_count": 44,
   "metadata": {},
   "outputs": [],
   "source": [
    "df_ifr.loc[(df_ifr.DECEDUTI == '<5'), 'DECEDUTI'] = 4 #Replace <5 with 4\n",
    "df_ifr = df_ifr.loc[(df_ifr.AGE_GROUP != 'Non noto') & (df_ifr.SESSO != 'Non noto')]\n",
    "df_ifr['DECEDUTI'] = pd.to_numeric(df_ifr['DECEDUTI'])\n",
    "df_ifr['CASI_CUMULATIVI'] = pd.to_numeric(df_ifr['CASI_CUMULATIVI'])\n",
    "df_ifr = df_ifr[['AGE_GROUP', 'DECEDUTI', 'CASI_CUMULATIVI']]\n",
    "df_ifr = df_ifr.groupby('AGE_GROUP').sum()"
   ]
  },
  {
   "cell_type": "code",
   "execution_count": 45,
   "metadata": {},
   "outputs": [],
   "source": [
    "df_ifr['IFR'] = df_ifr['DECEDUTI'] / df_ifr['CASI_CUMULATIVI']\n",
    "df_ifr.reset_index(inplace=True)\n"
   ]
  },
  {
   "cell_type": "code",
   "execution_count": 47,
   "metadata": {},
   "outputs": [
    {
     "data": {
      "text/html": [
       "<div>\n",
       "<style scoped>\n",
       "    .dataframe tbody tr th:only-of-type {\n",
       "        vertical-align: middle;\n",
       "    }\n",
       "\n",
       "    .dataframe tbody tr th {\n",
       "        vertical-align: top;\n",
       "    }\n",
       "\n",
       "    .dataframe thead th {\n",
       "        text-align: right;\n",
       "    }\n",
       "</style>\n",
       "<table border=\"1\" class=\"dataframe\">\n",
       "  <thead>\n",
       "    <tr style=\"text-align: right;\">\n",
       "      <th></th>\n",
       "      <th>AGE_GROUP</th>\n",
       "      <th>DECEDUTI</th>\n",
       "      <th>CASI_CUMULATIVI</th>\n",
       "      <th>IFR</th>\n",
       "    </tr>\n",
       "  </thead>\n",
       "  <tbody>\n",
       "    <tr>\n",
       "      <th>0</th>\n",
       "      <td>0-9</td>\n",
       "      <td>9</td>\n",
       "      <td>98903</td>\n",
       "      <td>0.000091</td>\n",
       "    </tr>\n",
       "    <tr>\n",
       "      <th>1</th>\n",
       "      <td>10-19</td>\n",
       "      <td>9</td>\n",
       "      <td>207030</td>\n",
       "      <td>0.000043</td>\n",
       "    </tr>\n",
       "    <tr>\n",
       "      <th>2</th>\n",
       "      <td>20-29</td>\n",
       "      <td>45</td>\n",
       "      <td>295336</td>\n",
       "      <td>0.000152</td>\n",
       "    </tr>\n",
       "    <tr>\n",
       "      <th>3</th>\n",
       "      <td>30-39</td>\n",
       "      <td>171</td>\n",
       "      <td>303482</td>\n",
       "      <td>0.000563</td>\n",
       "    </tr>\n",
       "    <tr>\n",
       "      <th>4</th>\n",
       "      <td>40-49</td>\n",
       "      <td>704</td>\n",
       "      <td>391493</td>\n",
       "      <td>0.001798</td>\n",
       "    </tr>\n",
       "    <tr>\n",
       "      <th>5</th>\n",
       "      <td>50-59</td>\n",
       "      <td>2758</td>\n",
       "      <td>440201</td>\n",
       "      <td>0.006265</td>\n",
       "    </tr>\n",
       "    <tr>\n",
       "      <th>6</th>\n",
       "      <td>60-69</td>\n",
       "      <td>7995</td>\n",
       "      <td>276920</td>\n",
       "      <td>0.028871</td>\n",
       "    </tr>\n",
       "    <tr>\n",
       "      <th>7</th>\n",
       "      <td>70-79</td>\n",
       "      <td>20635</td>\n",
       "      <td>207740</td>\n",
       "      <td>0.099331</td>\n",
       "    </tr>\n",
       "    <tr>\n",
       "      <th>8</th>\n",
       "      <td>80-89</td>\n",
       "      <td>35200</td>\n",
       "      <td>177759</td>\n",
       "      <td>0.198021</td>\n",
       "    </tr>\n",
       "    <tr>\n",
       "      <th>9</th>\n",
       "      <td>&gt;90</td>\n",
       "      <td>17191</td>\n",
       "      <td>67667</td>\n",
       "      <td>0.254053</td>\n",
       "    </tr>\n",
       "  </tbody>\n",
       "</table>\n",
       "</div>"
      ],
      "text/plain": [
       "  AGE_GROUP  DECEDUTI  CASI_CUMULATIVI       IFR\n",
       "0       0-9         9            98903  0.000091\n",
       "1     10-19         9           207030  0.000043\n",
       "2     20-29        45           295336  0.000152\n",
       "3     30-39       171           303482  0.000563\n",
       "4     40-49       704           391493  0.001798\n",
       "5     50-59      2758           440201  0.006265\n",
       "6     60-69      7995           276920  0.028871\n",
       "7     70-79     20635           207740  0.099331\n",
       "8     80-89     35200           177759  0.198021\n",
       "9       >90     17191            67667  0.254053"
      ]
     },
     "execution_count": 47,
     "metadata": {},
     "output_type": "execute_result"
    }
   ],
   "source": [
    "df_ifr"
   ]
  },
  {
   "cell_type": "code",
   "execution_count": 54,
   "metadata": {},
   "outputs": [
    {
     "data": {
      "image/png": "[encoded data removed]",
      "text/plain": [
       "<Figure size 432x288 with 1 Axes>"
      ]
     },
     "metadata": {
      "needs_background": "light"
     },
     "output_type": "display_data"
    }
   ],
   "source": [
    "df_ifr.plot( x='AGE_GROUP', y='IFR', kind = 'bar', \n",
    "            title='IFR in Italy',)\n",
    "plt.savefig('Presentation/Images/IFR_Italy.png')"
   ]
  },
  {
   "cell_type": "code",
   "execution_count": null,
   "metadata": {},
   "outputs": [],
   "source": []
  }
 ],
 "metadata": {
  "kernelspec": {
   "display_name": "Python 3",
   "language": "python",
   "name": "python3"
  },
  "language_info": {
   "codemirror_mode": {
    "name": "ipython",
    "version": 3
   },
   "file_extension": ".py",
   "mimetype": "text/x-python",
   "name": "python",
   "nbconvert_exporter": "python",
   "pygments_lexer": "ipython3",
   "version": "3.8.5"
  }
 },
 "nbformat": 4,
 "nbformat_minor": 4
}
