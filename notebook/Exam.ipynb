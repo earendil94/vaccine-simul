{
 "cells": [
  {
   "cell_type": "markdown",
   "metadata": {},
   "source": [
    "## Stochastic Modelling and Simulation exam\n",
    "\n",
    "Optimal vaccination strategies based on mean field epidemiologic modelling for HCov-Sars-2"
   ]
  },
  {
   "cell_type": "code",
   "execution_count": 2,
   "metadata": {},
   "outputs": [],
   "source": [
    "import numpy as np\n",
    "import sympy as sp\n",
    "import matplotlib.pyplot as plt\n",
    "from scipy.integrate import odeint\n",
    "import pandas as pd"
   ]
  },
  {
   "cell_type": "code",
   "execution_count": 3,
   "metadata": {},
   "outputs": [],
   "source": [
    "df = pd.read_csv(\"../data/Popolazione_italiana.csv\")\n",
    "df_k_matrix = pd.read_csv(\"../data/KMatrixItalia.CSV\", sep=\";\",header=None)\n",
    "df_infected = pd.read_csv(\"../data/ReportISS_ICU.txt\", sep=\"\\t\")\n",
    "df_cases = pd.read_csv(\"../data/ReportISS_CumulativeCasesDeaths_age.txt\", sep=\"\\t\")"
   ]
  },
  {
   "cell_type": "markdown",
   "metadata": {},
   "source": [
    "### Contact matrix for age category"
   ]
  },
  {
   "cell_type": "code",
   "execution_count": 4,
   "metadata": {},
   "outputs": [],
   "source": [
    "k_matrix_aggr = pd.DataFrame(columns=['0-9','10-19','20-29','30-39','40-49','50-59','60-69'])\n",
    "for i in range(0,len(df_k_matrix[:-1]),2):\n",
    "    temp = df_k_matrix[i:i+2].sum(axis=0)\n",
    "    row = []\n",
    "    for j in range(0,len(df_k_matrix[:-1]),2):\n",
    "        row.append(temp[j:j+2].sum())\n",
    "    \n",
    "    k_matrix_aggr.loc[i//2] = row\n",
    "\n",
    "col = []\n",
    "for j in range(0, len(df_k_matrix[:-1]),2):\n",
    "    temp = df_k_matrix[14][j:j+2]\n",
    "    col.append(np.sum(temp))\n",
    "    \n",
    "k_matrix_aggr['70-79'] = col\n",
    "\n",
    "row = []\n",
    "for j in range(0, len(df_k_matrix[:-1]),2):\n",
    "    temp = df_k_matrix[-1:].values[0]\n",
    "    row.append(np.sum(temp[j:j+2]))\n",
    "row.append(df_k_matrix[14][14])\n",
    "k_matrix_aggr.loc[7] = row"
   ]
  },
  {
   "cell_type": "code",
   "execution_count": 4,
   "metadata": {},
   "outputs": [],
   "source": [
    "#We make somewhat of a rough hypothesis: to spread the contact of the elders, we consider as if every category 70+\n",
    "#would have the same number of contacts with other people"
   ]
  },
  {
   "cell_type": "code",
   "execution_count": 5,
   "metadata": {},
   "outputs": [],
   "source": [
    "k_matrix_aggr['80-89'] = np.round(k_matrix_aggr['70-79']/3,decimals=2)\n",
    "k_matrix_aggr['90+'] = np.round(k_matrix_aggr['70-79']/3,decimals=2)\n",
    "k_matrix_aggr['70-79'] = np.round(k_matrix_aggr['70-79']/3,decimals=2)\n",
    "k_matrix_aggr.loc[8] = k_matrix_aggr.loc[7]\n",
    "k_matrix_aggr.loc[9] = k_matrix_aggr.loc[7]"
   ]
  },
  {
   "cell_type": "code",
   "execution_count": 6,
   "metadata": {},
   "outputs": [],
   "source": [
    "K = k_matrix_aggr.values"
   ]
  },
  {
   "cell_type": "markdown",
   "metadata": {},
   "source": [
    "### Immunological data"
   ]
  },
  {
   "cell_type": "code",
   "execution_count": 7,
   "metadata": {},
   "outputs": [],
   "source": [
    "#Data obtained from \"Immunological characteristics govern the transition of COVID-19 to endemicity\"\n",
    "#Suppose to divide the population into 1 bins 0-9, 10-19, 20-29, 30-39, 40-49, 50-59, 60-69, 70-79, 80-89, 90+\n",
    "bins = 10\n",
    "#Define the constant parameters\n",
    "rho_1 = 1/9 #Average recovery time after infection: we assume it is constant with respect to age specificity\n",
    "rho_2 = rho_1 * 5 \n",
    "#We suppose recovering from second infection is 5 times as fast as recovering from first infection\n",
    "#Check Lavine again for support regarding this assumption\n",
    "beta = 0.05 #Secondary trasmissibility, can vary from 0.05-0.95 (Source: Lavine)\n",
    "omega = 1/365 #One year of waning immunity. Again, could vary from 0.5 to 2 years.\n",
    "\n",
    "#Define the age specific parameters\n",
    "#The R0 parameter will be varied to explore different scenarios\n",
    "IFR = np.array([0, 0, 0, 0.001, 0.002, 0.006, 0.029, 0.1, 0.196, 0.249]) #Source: https://lab24.ilsole24ore.com/coronavirus/#\n",
    "WORLD_IFR = np.array([0, 0, 0, 0.001, 0.001, 0.003, 0.01, 0.02, 0.08, 0.08]) #Source https://www.acsh.org/news/2020/11/18/covid-infection-fatality-rates-sex-and-age-15163\n",
    "f = IFR/(1-IFR) #Fraction of individuals that die\n",
    "f = WORLD_IFR/(1-WORLD_IFR)\n",
    "#http://www.salute.gov.it/portale/news/p3_2_1_1_1.jsp?lingua=italiano&menu=notizie&p=dalministero&id=4460\n",
    "R0 = 3.60\n",
    "R0_95cl = np.array([3.49, 3.84])\n",
    "\n",
    "av_contacts = 19.77 #Based on the social study, averagin over a sample of italian population\n",
    "alpha = rho_1 * R0 / av_contacts\n",
    "alpha_95cl = rho_1/av_contacts * R0_95cl\n",
    "alpha_bot = alpha_95cl[0]  \n",
    "alpha_top = alpha_95cl[1]\n",
    "delta = f * rho_1 #Death rates: how do we model them? Idea, for each class we have and IFR. \n",
    "#This can be seen as infected_that_die/(infected_that_die + inf_that_recover). Hence, in order\n",
    "#to have a race condition between recovery and death we need the ratio of the two rates to be the\n",
    "#same of the IFR. I.e., if IFR is 50% then 1 individual recovers and 1 dies, hence the rates have\n",
    "#to be equal"
   ]
  },
  {
   "cell_type": "markdown",
   "metadata": {},
   "source": [
    "#### Population data"
   ]
  },
  {
   "cell_type": "code",
   "execution_count": 9,
   "metadata": {},
   "outputs": [],
   "source": [
    "#Here we are extracting from the Istat data the value of the total italian population for age category that we need\n",
    "italy_df = df.loc[df['Territorio'] == \"Italia\"]\n",
    "age_tot = italy_df.loc[(italy_df['SEXISTAT1'] == 9) & (italy_df['STATCIV2'] == 99)]\n",
    "df_age = pd.DataFrame(data=age_tot[['Età','Value']])\n",
    "df_age.insert(2, \"Age\", [i for i in range(len(df_age))])\n",
    "df_age.drop(\"Età\", axis=1, inplace=True)\n",
    "df_age.set_index('Age', inplace=True)\n",
    "df_age.drop(index=101, inplace=True)\n",
    "#age_cat_0 = [i//5 for i in range(10)]\n",
    "#age_cat_1 = [2 + i//10 for i in range(91)]\n",
    "#age_cat_1[-1] = age_cat_1[-2]\n",
    "age_cat = [i//10 for i in range(101)]\n",
    "age_cat[-1] = age_cat[-2]\n",
    "df_age.insert(1, 'Age_category', age_cat)\n",
    "age = df_age.groupby(\"Age_category\").sum()\n",
    "N = age.values\n",
    "N = N[:,0]"
   ]
  },
  {
   "cell_type": "markdown",
   "metadata": {},
   "source": [
    "Current infected and recovered"
   ]
  },
  {
   "cell_type": "code",
   "execution_count": 12,
   "metadata": {},
   "outputs": [],
   "source": [
    "df_infected = df_infected[[\"AGE_GROUP\", \"CASI\"]]\n",
    "df_infected.loc[(df_infected.CASI == '<5'), 'CASI'] = 0\n",
    "df_infected['CASI'] = pd.to_numeric(df_infected['CASI'])\n",
    "df_infected = df_infected.groupby('AGE_GROUP').sum()\n",
    "infected = df_infected.values[:-1,0]\n",
    "\n",
    "\n",
    "df_cases.loc[(df_cases.DECEDUTI == '<5'), 'DECEDUTI'] = 0\n",
    "df_cases = df_cases[df_cases.SESSO != 'Non noto']\n",
    "df_cases = df_cases[df_cases.AGE_GROUP != 'Non noto']\n",
    "df_cases['CASI_CUMULATIVI'] = pd.to_numeric(df_cases['CASI_CUMULATIVI'])\n",
    "df_cases['DECEDUTI'] = pd.to_numeric(df_cases['DECEDUTI'])\n",
    "\n",
    "df_cum_cases = df_cases[['AGE_GROUP', 'CASI_CUMULATIVI']]\n",
    "df_cum_cases = df_cum_cases.groupby('AGE_GROUP').sum()\n",
    "\n",
    "df_deads = df_cases[['AGE_GROUP', 'DECEDUTI']]\n",
    "df_deads = df_deads.groupby('AGE_GROUP').sum()\n",
    "\n",
    "cases = df_cum_cases.values[:,0]\n",
    "deads = df_deads.values[:,0]"
   ]
  },
  {
   "cell_type": "code",
   "execution_count": 13,
   "metadata": {},
   "outputs": [],
   "source": [
    "#Current data retrievable from https://lab24.ilsole24ore.com/coronavirus/#\n",
    "N_tot = np.sum(N)\n",
    "I10 = infected #TODO: take data from protezione civile if needed to start from the current picture\n",
    "R10 =  cases-infected\n",
    "R20 = np.zeros(bins)\n",
    "I20 = np.zeros(bins)\n",
    "D0 = deads\n",
    "D0_tot = np.sum(D0)\n",
    "S0 = (N-I10-R10-R20-I20-D0)"
   ]
  },
  {
   "cell_type": "code",
   "execution_count": 14,
   "metadata": {},
   "outputs": [],
   "source": [
    "#This dict helps us keeping track of the name of the variables\n",
    "var_names = dict()\n",
    "\n",
    "for i in range(bins):\n",
    "    var_names[\"s\"+str(i)] = i\n",
    "    var_names[\"i1\"+str(i)] = i+bins\n",
    "    var_names[\"r1\"+str(i)] = i+bins*2\n",
    "    var_names[\"r2\"+str(i)] = i+bins*3\n",
    "    var_names[\"i2\"+str(i)] = i+bins*4\n",
    "    var_names[\"d\"+str(i)] = i+bins*5"
   ]
  },
  {
   "cell_type": "markdown",
   "metadata": {},
   "source": [
    "### Vaccination policies"
   ]
  },
  {
   "cell_type": "code",
   "execution_count": 15,
   "metadata": {},
   "outputs": [],
   "source": [
    "def no_vax(t,s,*args):\n",
    "    \n",
    "    cat = len(s)\n",
    "    return np.zeros(cat)\n",
    "\n",
    "def vax_old_first(t,s,cap=50000):\n",
    "    #This function should model the vaccination with respect to time\n",
    "\n",
    "    cat = len(s)\n",
    "    vaccine = np.zeros(cat)\n",
    "    vaccines_left = cap\n",
    "\n",
    "    for i in range(cat-1,-1,-1):\n",
    "        if s[i] > vaccines_left:\n",
    "            vaccine[i] = cap\n",
    "            return vaccine\n",
    "        elif s[i] > 0:\n",
    "            vaccine[i] = s[i]\n",
    "\n",
    "    return vaccine\n",
    "\n",
    "def vax_young_first(t,s, cap=50000):\n",
    "    #This function should model the vaccination with respect to time\n",
    "    \n",
    "    cat = len(s)\n",
    "    vaccine = np.zeros(cat)\n",
    "    vaccines_left = cap\n",
    "\n",
    "    for i in range(2,cat): #We should not vaccine kids anyway since they trasmit less than adolescents\n",
    "        if s[i] > vaccines_left:\n",
    "            vaccine[i] = cap\n",
    "            return vaccine\n",
    "        elif s[i] > 0:\n",
    "            vaccine[i] = s[i]\n",
    "\n",
    "    return vaccine"
   ]
  },
  {
   "cell_type": "markdown",
   "metadata": {},
   "source": [
    "### Infection rate modelling"
   ]
  },
  {
   "cell_type": "code",
   "execution_count": 16,
   "metadata": {},
   "outputs": [],
   "source": [
    "#We want to model how various policies affect the basic reproduction number. This means that we will evaluate how much contacts\n",
    "#shift with given policies.\n",
    "\n",
    "# 1. Masks: they cut by (suppose a) 50%  every chance of infection that we have: everyone should wear them, hence we apply this cut uniformly\n",
    "# 2. School closures: some population (10-19, 20-29) are heavily affected by this: we cut by 50% also here\n",
    "# 3. Smart working: adult population is affected: we cut by another 50%\n",
    "# 4. Red zone: everyone should stay home: we reduce every category (except elders) to family members contact only\n",
    "\n",
    "curr_K = K\n",
    "time_dpcm = 0\n",
    "dpcm = 0\n",
    "dead_2_weeks_ago = 0\n",
    "\n",
    "def max_K(d,t):\n",
    "    return K\n",
    "\n",
    "def masks(d,t):\n",
    "    return K/2\n",
    "\n",
    "def yellow_zone(d,t):\n",
    "    new_K = K/3 #Masks are 70%ish percent efficient\n",
    "    \n",
    "    #School at half for young kids and teenagers\n",
    "    new_K[0,0] = new_K[0,0]/2\n",
    "    new_K[1,1] = new_K[1,1]/2\n",
    "    \n",
    "    #Smart working for 75% of people. Everyone with a mask at work (valid for adults 20-60)\n",
    "    for i in range(2,6):\n",
    "        for j in range(2,6):\n",
    "            new_K[i,j] = new_K[i,j]/4\n",
    "    \n",
    "    return new_K\n",
    "\n",
    "def red_zone(i1,t):\n",
    "    #No school. Contacts between kids and teenagers set to 1.\n",
    "    #Telework at 75%. The remaining has to wear a mask\n",
    "    #Everyone else wears a mask and is more careful\n",
    "    new_K = K/3\n",
    "    new_K[0,0] = 1\n",
    "    new_K[1,1] = 1\n",
    "    \n",
    "    for i in range(2,6):\n",
    "        for j in range(2,6):\n",
    "            new_K[i,j] = new_K[i,j]/4 #Takes into account impact of masks on existing contacts\n",
    "        \n",
    "    #Special caution with elders\n",
    "    for i in range(7,bins):\n",
    "        for j in range(bins):\n",
    "            new_K[i,j] = new_K[i,j]/4\n",
    "    \n",
    "    for i in range(bins):\n",
    "        for j in range(i+1, bins):\n",
    "            new_K[i,j] = new_K.T[i,j]\n",
    "    \n",
    "    return new_K\n",
    "\n",
    "\n",
    "def variable_zones(d,t, deaths_threshold = 5600):\n",
    "    \n",
    "    global dpcm \n",
    "    global time_dpcm\n",
    "    global dead_2_weeks_ago\n",
    "    global curr_K\n",
    "    \n",
    "    new_deaths = 0\n",
    "    curr_deaths = np.sum(d)\n",
    "    if (t-time_dpcm) > 14:\n",
    "        new_deaths = curr_deaths - dead_2_weeks_ago\n",
    "        dpcm = 0\n",
    "    \n",
    "    if dpcm == 0: \n",
    "        dpcm = 1\n",
    "        time_dpcm = t\n",
    "        dead_2_weeks_ago = curr_deaths\n",
    "        if new_deaths > deaths_threshold:\n",
    "            curr_K = red_zone(d,t)\n",
    "        else :\n",
    "            curr_K = yellow_zone(d,t)\n",
    "    \n",
    "    return curr_K    "
   ]
  },
  {
   "cell_type": "markdown",
   "metadata": {},
   "source": [
    "### SIRRI: Vaccine yields sterilizing immunity"
   ]
  },
  {
   "cell_type": "code",
   "execution_count": 17,
   "metadata": {},
   "outputs": [],
   "source": [
    "def unpack_sirri(X, categories):\n",
    "    y = np.reshape(X, (-1, categories))\n",
    "    return y[0,:], y[1,:], y[2,:], y[3,:], y[4,:], y[5,:]\n",
    "\n",
    "def pack_sirri(ds, di1, dr1, dr2, di2, dd):\n",
    "    return np.concatenate((ds, di1, dr1, dr2, di2, dd))\n",
    "\n",
    "def sirri(X,t,vaccination,K_t,alpha=alpha, vaccine_capacity=50000,categories=10):\n",
    "    \n",
    "    s, i1, r1, r2, i2, d = unpack_sirri(X, categories)\n",
    "    K = K_t(d,t)\n",
    "    \n",
    "    v = vaccination(t,s, vaccine_capacity)\n",
    "    d_tot = np.sum(d)\n",
    "\n",
    "    ds = dict()\n",
    "    di1 = dict()\n",
    "    di2 = dict()\n",
    "    dr1 = dict()\n",
    "    dr2 = dict()\n",
    "    dd = dict()\n",
    "    \n",
    "    #The model\n",
    "    for i in range(categories):\n",
    "        ds[i] = -alpha*s[i]*(np.dot(i1/(N-d),K[i,:]) + beta*np.dot(i2/(N-d),K[i,:])) - v[i]\n",
    "        di1[i] = alpha*s[i]*(np.dot(i1/(N-d),K[i,:]) + beta*np.dot(i2/(N-d),K[i,:])) - (1-f[i]) * rho_1 * i1[i] - delta[i]*i1[i]\n",
    "        dr1[i] = (1-f[i]) * rho_1 * i1[i] + rho_2 * i2[i] - omega * r1[i] + v[i]\n",
    "        dr2[i] = omega * r1[i] - alpha*s[i]*(np.dot(i1/(N-d),K[i,:]) + beta*np.dot(i2/(N-d),K[i,:]))\n",
    "        di2[i] = alpha*s[i]*(np.dot(i1/(N-d),K[i,:]) + beta*np.dot(i2/(N-d),K[i,:])) - rho_2 * i2[i]\n",
    "        dd[i] = delta[i] * i1[i]\n",
    "    \n",
    "                                           \n",
    "    #print(di1)\n",
    "                                           \n",
    "    dX = pack_sirri(np.array(list(ds.values())),\n",
    "              np.array(list(di1.values())),\n",
    "              np.array(list(dr1.values())),\n",
    "              np.array(list(dr2.values())),\n",
    "              np.array(list(di2.values())),\n",
    "              np.array(list(dd.values())))\n",
    "    \n",
    "    return dX"
   ]
  },
  {
   "cell_type": "code",
   "execution_count": 18,
   "metadata": {},
   "outputs": [],
   "source": [
    "def plot_sirri(sol, var_to_plot, title):\n",
    "\n",
    "    n_var = len(var_to_plot)\n",
    "    \n",
    "    fig = plt.figure()\n",
    "    ax = fig.add_subplot(111)\n",
    "    ax.set_prop_cycle(plt.cycler('color', ['r', 'g', 'b', 'c', 'm', 'y', 'k']))\n",
    "    handles = []\n",
    "    labels = []\n",
    "    for i in var_to_plot:\n",
    "        var = var_names[i]\n",
    "        h, = ax.plot(t, sol[:,var])\n",
    "        handles.append(h)\n",
    "        labels.append(i)\n",
    "        \n",
    "    plt.legend(handles, labels)\n",
    "    plt.title(title)\n",
    "    plt.xlabel(\"time\")\n",
    "    plt.show()"
   ]
  },
  {
   "cell_type": "code",
   "execution_count": 19,
   "metadata": {},
   "outputs": [],
   "source": [
    "def aggregate_sirri(sol, categories):\n",
    "    \n",
    "    n = sol.shape[0]\n",
    "    s = np.zeros(n)\n",
    "    i1 = np.zeros(n)\n",
    "    r1 = np.zeros(n)\n",
    "    r2 = np.zeros(n)\n",
    "    i2 = np.zeros(n)\n",
    "    d = np.zeros(n)\n",
    "    \n",
    "    for i in range(categories):\n",
    "        s = s + sol[:,i]\n",
    "        i1 = i1 + sol[:,i + categories] \n",
    "        r1 = r1 + sol[:,i + 2*categories]\n",
    "        r2 = r2 + sol[:,i + 3*categories]\n",
    "        i2 = i2 + sol[:,i + 4*categories]\n",
    "        d = d + sol[:,i + 5*categories]\n",
    "        \n",
    "    return {\"s\":s, \"i1\":i1, \"r1\":r1, \"r2\":r2, \"i2\": i2, \"d\": d}\n",
    "    \n",
    "\n",
    "def plot_sirri_aggr(sol, categories, title, var_to_plot=[\"s\",\"i1\",\"r1\",\"r2\",\"d\"]):\n",
    "    \n",
    "    fig = plt.figure()\n",
    "    ax = fig.add_subplot(111)\n",
    "    ax.set_prop_cycle(plt.cycler('color', ['r', 'g', 'b', 'c', 'm', 'y', 'k']))\n",
    "    handles = []\n",
    "    labels = []\n",
    "    var_dict = aggregate_sirri(sol, categories)\n",
    "    \n",
    "    \n",
    "    for key in var_to_plot:\n",
    "        var = var_dict[key]\n",
    "        h, = ax.plot(t, var)\n",
    "        handles.append(h)\n",
    "        labels.append(key)\n",
    "        \n",
    "    plt.legend(handles, labels)\n",
    "    plt.title(title)\n",
    "    plt.xlabel(\"time\")\n",
    "    plt.show()\n",
    "    \n",
    "    return var_dict\n",
    "    "
   ]
  },
  {
   "cell_type": "code",
   "execution_count": 20,
   "metadata": {},
   "outputs": [],
   "source": [
    "def reset_global():\n",
    "    global curr_K \n",
    "    curr_K = K\n",
    "    global time_dpcm \n",
    "    time_dpcm = 0\n",
    "    global dpcm\n",
    "    dpcm = 0"
   ]
  },
  {
   "cell_type": "markdown",
   "metadata": {},
   "source": [
    "## Scenarios"
   ]
  },
  {
   "cell_type": "markdown",
   "metadata": {},
   "source": [
    "### Vax elder first, varying zones"
   ]
  },
  {
   "cell_type": "code",
   "execution_count": 22,
   "metadata": {},
   "outputs": [
    {
     "data": {
      "image/png": "[encoded data removed]",
      "text/plain": [
       "<Figure size 432x288 with 1 Axes>"
      ]
     },
     "metadata": {
      "needs_background": "light"
     },
     "output_type": "display_data"
    },
    {
     "name": "stdout",
     "output_type": "stream",
     "text": [
      "New deaths:  67350.0\n"
     ]
    }
   ],
   "source": [
    "t = np.linspace(0,365,365+1)\n",
    "sol = odeint(sirri,pack_sirri(S0,I10,R10,R20,I20,D0),t,(vax_old_first, variable_zones))\n",
    "reset_global()\n",
    "agg_vars_elders = plot_sirri_aggr(sol, bins, \"vax elder first, variable zones\", [\"d\"])\n",
    "\n",
    "total_deaths = np.floor(max(agg_vars_elders[\"d\"]))\n",
    "print(\"New deaths: \", total_deaths - np.sum(D0))"
   ]
  },
  {
   "cell_type": "markdown",
   "metadata": {},
   "source": [
    "### Vax young first, varying zones"
   ]
  },
  {
   "cell_type": "code",
   "execution_count": 23,
   "metadata": {},
   "outputs": [
    {
     "data": {
      "image/png": "[encoded data removed]",
      "text/plain": [
       "<Figure size 432x288 with 1 Axes>"
      ]
     },
     "metadata": {
      "needs_background": "light"
     },
     "output_type": "display_data"
    },
    {
     "name": "stdout",
     "output_type": "stream",
     "text": [
      "New deaths:  92695.0\n"
     ]
    }
   ],
   "source": [
    "days = 365\n",
    "t = np.linspace(0,days,days+1)\n",
    "sol = odeint(sirri,pack_sirri(S0,I10,R10,R20,I20,D0),t,(vax_young_first, variable_zones))\n",
    "reset_global()\n",
    "agg_vars_young = plot_sirri_aggr(sol,bins, \"vax young first, variable zones\", [\"i1\"])\n",
    "total_deaths = np.floor(max(agg_vars_young[\"d\"]))\n",
    "print(\"New deaths: \", total_deaths - np.sum(D0))"
   ]
  },
  {
   "cell_type": "markdown",
   "metadata": {},
   "source": [
    "### Comparison of total deaths w/ different vaccines scenarios"
   ]
  },
  {
   "cell_type": "code",
   "execution_count": null,
   "metadata": {},
   "outputs": [],
   "source": [
    "last_day_deaths = 391\n",
    "daily_deaths_elder = np.insert(np.diff(agg_vars_elders['d']),0, last_day_deaths)\n",
    "daily_deaths_young = np.insert(np.diff(agg_vars_young['d']),0, last_day_deaths)\n",
    "\n",
    "fig = plt.figure()\n",
    "ax = fig.add_subplot(111)\n",
    "h1, = plt.plot(daily_deaths_elder)\n",
    "h2, = plt.plot(daily_deaths_young)\n",
    "plt.xlabel('Days')\n",
    "plt.title(\"Daily deaths with different vaccination scenarios\")\n",
    "plt.legend([h1,h2], [\"Elder first\", \"Youngs first\"])\n",
    "plt.savefig(\"Presentation/Images/daily_deaths_comparison\")"
   ]
  },
  {
   "cell_type": "markdown",
   "metadata": {},
   "source": [
    "### Vaccine young vs vaccine old with respect to vaccine capacity and death thresholds for red zone"
   ]
  },
  {
   "cell_type": "code",
   "execution_count": null,
   "metadata": {},
   "outputs": [],
   "source": [
    "days = 365*2\n",
    "t = np.linspace(0,days,days+1)\n",
    "capacity = [i for i in range(30000,100000,2000)]\n",
    "deaths_old = []\n",
    "deaths_young = []\n",
    "\n",
    "for cap in capacity:\n",
    "    sol = odeint(sirri,pack_sirri(S0,I10,R10,R20,I20,D0),t,(vax_old_first, variable_zones, cap))      \n",
    "    agg = aggregate_sirri(sol, bins)\n",
    "    deaths_vax_old = np.round(agg['d'][-1])\n",
    "    reset_global()\n",
    "    sol = odeint(sirri,pack_sirri(S0,I10,R10,R20,I20,D0),t,(vax_young_first, variable_zones, cap))      \n",
    "    agg = aggregate_sirri(sol, bins)\n",
    "    deaths_vax_young = np.round(agg['d'][-1])\n",
    "    deaths_old.append(deaths_vax_old)\n",
    "    deaths_young.append(deaths_vax_young)\n",
    "    reset_global()"
   ]
  },
  {
   "cell_type": "code",
   "execution_count": null,
   "metadata": {},
   "outputs": [],
   "source": [
    "fig = plt.figure()  \n",
    "ax = fig.add_subplot(111)\n",
    "deaths_old = np.array(deaths_old)\n",
    "deaths_young = np.array(deaths_young)\n",
    "y = deaths_young - deaths_old\n",
    "h1, = ax.plot(capacity, deaths_old,)\n",
    "h2, = ax.plot(capacity, deaths_young)\n",
    "plt.title(\"Cumulative Deaths with two different vaccination policies\")\n",
    "plt.xlabel(\"Vaccine per day\")\n",
    "plt.legend([h1,h2], [\"Elder first\", \"Young first\"])\n",
    "plt.savefig(\"Presentation/Images/Deaths_with_capacity\")\n",
    "plt.show()"
   ]
  },
  {
   "cell_type": "code",
   "execution_count": null,
   "metadata": {},
   "outputs": [],
   "source": []
  }
 ],
 "metadata": {
  "kernelspec": {
   "display_name": "Python 3",
   "language": "python",
   "name": "python3"
  },
  "language_info": {
   "codemirror_mode": {
    "name": "ipython",
    "version": 3
   },
   "file_extension": ".py",
   "mimetype": "text/x-python",
   "name": "python",
   "nbconvert_exporter": "python",
   "pygments_lexer": "ipython3",
   "version": "3.8.5"
  }
 },
 "nbformat": 4,
 "nbformat_minor": 4
}
