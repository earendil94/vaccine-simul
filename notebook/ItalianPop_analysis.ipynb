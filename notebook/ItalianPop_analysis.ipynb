{
 "cells": [
  {
   "cell_type": "code",
   "execution_count": 1,
   "metadata": {},
   "outputs": [],
   "source": [
    "import numpy as np\n",
    "import pandas as pd"
   ]
  },
  {
   "cell_type": "code",
   "execution_count": 2,
   "metadata": {},
   "outputs": [],
   "source": [
    "df = pd.read_csv(\"Popolazione_italiana.csv\")\n",
    "italy_df = df.loc[df['Territorio'] == \"Italia\"]\n",
    "age_tot = italy_df.loc[(italy_df['SEXISTAT1'] == 9) & (italy_df['STATCIV2'] == 99)]"
   ]
  },
  {
   "cell_type": "code",
   "execution_count": 3,
   "metadata": {},
   "outputs": [],
   "source": [
    "df_age = pd.DataFrame(data=age_tot[['Età','Value']])\n",
    "df_age.insert(2, \"Age\", [i for i in range(len(df_age))])\n",
    "df_age.drop(\"Età\", axis=1, inplace=True)\n",
    "df_age.set_index('Age', inplace=True)\n",
    "df_age.drop(index=101, inplace=True)\n",
    "df_age.insert(1, 'Age_category', [abs(i)//10 for i in range(-1,len(df_age)-1)])\n",
    "df_age.tail(20)\n",
    "age = df_age.groupby(\"Age_category\").sum()"
   ]
  },
  {
   "cell_type": "code",
   "execution_count": 4,
   "metadata": {},
   "outputs": [
    {
     "data": {
      "text/plain": [
       "(10,)"
      ]
     },
     "execution_count": 4,
     "metadata": {},
     "output_type": "execute_result"
    }
   ],
   "source": [
    "N = age.values\n",
    "N = N[:,0]\n",
    "N.shape"
   ]
  },
  {
   "cell_type": "code",
   "execution_count": 5,
   "metadata": {},
   "outputs": [
    {
     "data": {
      "text/plain": [
       "644035"
      ]
     },
     "execution_count": 5,
     "metadata": {},
     "output_type": "execute_result"
    }
   ],
   "source": [
    "df_icu = pd.read_csv(\"ReportISS_ICU.txt\", sep=\"\\t\")\n",
    "df_icu.loc[(df_icu.CASI == '<5'), 'CASI'] = 0\n",
    "df_cases = pd.to_numeric(df_icu['CASI'])\n",
    "sum(df_cases.values) \n",
    "#TODO: these data seem weird with respect to what we get in the infographic of sole (coming from\n",
    "#protezione civile. Just notice this we can't do much more unfortunately)\n",
    "#Notice that we can get the recovery rate by taking the cumulative cases from the beginning of \n",
    "#the epidemic\n",
    "\n",
    "#we can still use this as an estimate for the entering rate of ICU for age category:\n",
    "# ICU = CRITICO/Total cases"
   ]
  },
  {
   "cell_type": "code",
   "execution_count": 6,
   "metadata": {},
   "outputs": [
    {
     "data": {
      "text/plain": [
       "644035"
      ]
     },
     "execution_count": 6,
     "metadata": {},
     "output_type": "execute_result"
    }
   ],
   "source": [
    "sum(df_cases.values)"
   ]
  },
  {
   "cell_type": "code",
   "execution_count": 7,
   "metadata": {},
   "outputs": [],
   "source": [
    "df_icu_critico = df_icu.loc[df_icu['STATO_CLINICO'] == 'CRITICO']\n",
    "df_icu_critico = df_icu_critico[['AGE_GROUP', 'CASI']]\n",
    "df_icu_critico['CASI'] = pd.to_numeric(df_icu_critico['CASI'])\n",
    "#df_icu_critico = df_icu_critico.groupby('AGE_GROUP').sum()\n",
    "df_icu_critico = df_icu_critico.groupby('AGE_GROUP').sum()"
   ]
  },
  {
   "cell_type": "code",
   "execution_count": 8,
   "metadata": {},
   "outputs": [],
   "source": [
    "df_icu = df_icu[['AGE_GROUP', 'CASI']]\n",
    "df_icu['CASI'] = pd.to_numeric(df_icu['CASI'])\n",
    "df_icu = df_icu.groupby('AGE_GROUP').sum()"
   ]
  },
  {
   "cell_type": "code",
   "execution_count": 9,
   "metadata": {},
   "outputs": [],
   "source": [
    "icu = df_icu_critico.values[:,0]\n",
    "tot = df_icu.values[:,0]"
   ]
  },
  {
   "cell_type": "code",
   "execution_count": 10,
   "metadata": {},
   "outputs": [
    {
     "data": {
      "text/plain": [
       "array([2.19106047e-04, 9.02885622e-05, 3.55429181e-04, 7.73134812e-04,\n",
       "       1.75085792e-03, 4.70404793e-03, 1.27731934e-02, 1.96561979e-02,\n",
       "       9.40152950e-03, 4.52048126e-03])"
      ]
     },
     "execution_count": 10,
     "metadata": {},
     "output_type": "execute_result"
    }
   ],
   "source": [
    "icu_ratio = np.zeros(len(icu))\n",
    "for i in range(len(icu)):\n",
    "    icu_ratio[i] = icu[i]/tot[i]\n",
    "icu_ratio #These numbers are weird? I would expect a monotonic increase of entrances in ICU. \n",
    "#We'll think about this tomorrow anyway"
   ]
  },
  {
   "cell_type": "code",
   "execution_count": 11,
   "metadata": {},
   "outputs": [],
   "source": [
    "df_infected = pd.read_csv(\"ReportISS_ICU.txt\", sep=\"\\t\")\n",
    "df_infected = df_infected[[\"AGE_GROUP\", \"CASI\"]]\n",
    "df_infected.loc[(df_infected.CASI == '<5'), 'CASI'] = 0\n",
    "df_infected['CASI'] = pd.to_numeric(df_infected['CASI'])\n",
    "df_infected = df_infected.groupby('AGE_GROUP').sum()\n",
    "infected_age = df_infected.values[:-1]"
   ]
  },
  {
   "cell_type": "code",
   "execution_count": 12,
   "metadata": {},
   "outputs": [
    {
     "data": {
      "text/plain": [
       "array([[ 27384],\n",
       "       [ 55378],\n",
       "       [ 78778],\n",
       "       [ 80193],\n",
       "       [ 99951],\n",
       "       [114157],\n",
       "       [ 75862],\n",
       "       [ 55148],\n",
       "       [ 42759],\n",
       "       [ 14379]])"
      ]
     },
     "execution_count": 12,
     "metadata": {},
     "output_type": "execute_result"
    }
   ],
   "source": [
    "infected_age"
   ]
  },
  {
   "cell_type": "code",
   "execution_count": 13,
   "metadata": {},
   "outputs": [],
   "source": [
    "df_cases = pd.read_csv(\"ReportISS_CumulativeCasesDeaths_age.txt\", sep=\"\\t\")\n",
    "df_cases.loc[(df_cases.DECEDUTI == '<5'), 'DECEDUTI'] = 0\n",
    "df_cases = df_cases[df_cases.SESSO != 'Non noto']\n",
    "df_cases = df_cases[df_cases.AGE_GROUP != 'Non noto']\n",
    "df_cases['CASI_CUMULATIVI'] = pd.to_numeric(df_cases['CASI_CUMULATIVI'])\n",
    "df_cases['DECEDUTI'] = pd.to_numeric(df_cases['DECEDUTI'])\n",
    "\n",
    "df_cum_cases = df_cases[['AGE_GROUP', 'CASI_CUMULATIVI']]\n",
    "df_cum_cases = df_cum_cases.groupby('AGE_GROUP').sum()\n",
    "\n",
    "df_deads = df_cases[['AGE_GROUP', 'DECEDUTI']]\n",
    "df_deads = df_deads.groupby('AGE_GROUP').sum()\n",
    "\n",
    "cases = df_cum_cases.values\n",
    "deads = df_deads.values\n"
   ]
  },
  {
   "cell_type": "code",
   "execution_count": null,
   "metadata": {},
   "outputs": [],
   "source": []
  }
 ],
 "metadata": {
  "kernelspec": {
   "display_name": "Python 3",
   "language": "python",
   "name": "python3"
  },
  "language_info": {
   "codemirror_mode": {
    "name": "ipython",
    "version": 3
   },
   "file_extension": ".py",
   "mimetype": "text/x-python",
   "name": "python",
   "nbconvert_exporter": "python",
   "pygments_lexer": "ipython3",
   "version": "3.8.5"
  }
 },
 "nbformat": 4,
 "nbformat_minor": 4
}
